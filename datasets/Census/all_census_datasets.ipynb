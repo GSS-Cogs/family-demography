{
 "cells": [
  {
   "cell_type": "code",
   "execution_count": 1,
   "metadata": {},
   "outputs": [],
   "source": [
    "# import pandas as pd\n",
    "# from pathlib import Path\n",
    "import requests"
   ]
  },
  {
   "cell_type": "code",
   "execution_count": 4,
   "metadata": {},
   "outputs": [],
   "source": [
    "census_dataset_url = r\"https://api.beta.ons.gov.uk/v1/datasets?is_based_on=UR&limit=50\"\n",
    "\n",
    "response = requests.get(census_dataset_url, timeout=5) # there's 29 datasets/topic summaries for the usual residence population...34 as of 19/01/2023\n",
    "census_datasets = response.json()\n",
    "census_datasets_ids = []\n",
    "for dataset in census_datasets[\"items\"]:\n",
    "    census_datasets_ids.append(dataset[\"id\"])"
   ]
  },
  {
   "cell_type": "code",
   "execution_count": 6,
   "metadata": {},
   "outputs": [
    {
     "name": "stdout",
     "output_type": "stream",
     "text": [
      "{'TS076': {'version': '1'}, 'TS071': {'version': '2'}, 'TS067': {'version': '2'}, 'TS065': {'version': '2'}, 'TS064': {'version': '2'}, 'TS063': {'version': '2'}, 'TS062': {'version': '2'}, 'TS061': {'version': '2'}, 'TS060': {'version': '2'}, 'TS059': {'version': '2'}, 'TS056': {'version': '3'}, 'TS039': {'version': '2'}, 'TS038': {'version': '2'}, 'TS037': {'version': '2'}, 'TS036': {'version': '2'}, 'TS035': {'version': '2'}, 'TS034': {'version': '2'}, 'TS033': {'version': '2'}, 'TS032': {'version': '2'}, 'TS030': {'version': '2'}, 'TS029': {'version': '2'}, 'TS028': {'version': '3'}, 'TS027': {'version': '3'}, 'TS021': {'version': '2'}, 'TS019': {'version': '2'}, 'TS016': {'version': '2'}, 'TS015': {'version': '2'}, 'TS013': {'version': '2'}, 'TS012': {'version': '1'}, 'TS009': {'version': '1'}, 'TS008': {'version': '3'}, 'TS007': {'version': '2'}, 'TS005': {'version': '2'}, 'TS002': {'version': '2'}}\n"
     ]
    }
   ],
   "source": [
    "root_dataset_url = r\"https://api.beta.ons.gov.uk/v1/datasets/\"\n",
    "edition = \"2021\" # all census data is 2021\n",
    "\n",
    "versions = []\n",
    "for dataset_id in census_datasets_ids:\n",
    "    edition_request_url = root_dataset_url + dataset_id + \"/editions/\" + edition\n",
    "    # get latest version\n",
    "    response = requests.get(edition_request_url, timeout=5)\n",
    "    edition_endpoint_metadata = response.json()\n",
    "    latest_version = edition_endpoint_metadata[\"links\"][\"latest_version\"][\"id\"]\n",
    "    versions.append(latest_version)\n",
    "\n",
    "# combine \n",
    "ids_and_versions = dict(zip(census_datasets_ids, versions))\n",
    "# The zip function is used to combine the two lists into an iterable of tuples, \n",
    "# where the first element of each tuple is an id and the second element is the corresponding version. The dict function is then used to convert the iterable of tuples into a dictionary.\n",
    "\n",
    "# create nested dictionary\n",
    "dataset_dict = {census_datasets_ids: {'version': version} for census_datasets_ids, version in zip(census_datasets_ids, versions)} # comprehension dictionary\n",
    "print(dataset_dict)"
   ]
  },
  {
   "cell_type": "code",
   "execution_count": 7,
   "metadata": {},
   "outputs": [],
   "source": [
    "# get all csv and csvw links\n",
    "for id in dataset_dict:\n",
    "    version = dataset_dict[id][\"version\"]\n",
    "   \n",
    "    csv_link_request_url = root_dataset_url + id + \"/editions/\" + edition + \"/versions/\" + version\n",
    "    response = requests.get(csv_link_request_url, timeout=5)\n",
    "    dataset_metadata = response.json()\n",
    "    csv_link = dataset_metadata[\"downloads\"][\"csv\"][\"href\"]\n",
    "    csvw_link = dataset_metadata[\"downloads\"][\"csvw\"][\"href\"]\n",
    "    dataset_dict[id].update({\"csv\": csv_link})\n",
    "    dataset_dict[id].update({\"csvw\": csvw_link})"
   ]
  },
  {
   "cell_type": "code",
   "execution_count": null,
   "metadata": {},
   "outputs": [],
   "source": [
    "# download the data\n",
    "for id in dataset_dict: \n",
    "    # csv\n",
    "    response = requests.get(dataset_dict[id][\"csv\"], timeout=5)\n",
    "    csv_bytes = response.content # content gives the content of the response in bytes\n",
    "    csv_file = open(id + \"_\" + edition +\".csv\",\"wb\")\n",
    "    csv_file.write(csv_bytes)\n",
    "    csv_file.close()\n",
    "    # csvw\n",
    "    response = requests.get(dataset_dict[id][\"csvw\"], timeout=5)\n",
    "    csvw_bytes = response.content # content gives the content of the response in bytes\n",
    "    csvw_file = open(id + \"_\" + edition +\"_csvw-metadata.json\",\"wb\")\n",
    "    csvw_file.write(csvw_bytes)\n",
    "    csvw_file.close()"
   ]
  }
 ],
 "metadata": {
  "kernelspec": {
   "display_name": "Python 3",
   "language": "python",
   "name": "python3"
  },
  "language_info": {
   "codemirror_mode": {
    "name": "ipython",
    "version": 3
   },
   "file_extension": ".py",
   "mimetype": "text/x-python",
   "name": "python",
   "nbconvert_exporter": "python",
   "pygments_lexer": "ipython3",
   "version": "3.9.9"
  },
  "orig_nbformat": 4,
  "vscode": {
   "interpreter": {
    "hash": "1c89ec8b631e045858df3ded24f2b740e72d47d9486513ff350f4eea116224d4"
   }
  }
 },
 "nbformat": 4,
 "nbformat_minor": 2
}
