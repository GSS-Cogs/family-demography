{
 "cells": [
  {
   "cell_type": "code",
   "execution_count": null,
   "metadata": {},
   "outputs": [],
   "source": [
    "# import pandas as pd\n",
    "# from pathlib import Path\n",
    "import requests"
   ]
  },
  {
   "cell_type": "code",
   "execution_count": null,
   "metadata": {},
   "outputs": [],
   "source": [
    "UR_endpoint = r\"https://api.beta.ons.gov.uk/v1/datasets?is_based_on=UR\"\n",
    "\n",
    "response = requests.get(UR_endpoint + \"&limit=100\", timeout=5) # there's 29 datasets/topic summaries for the usual residence population\n",
    "UR = response.json()\n",
    "dataset_id_ls = []\n",
    "for item_ls in  UR[\"items\"]:\n",
    "    print(item_ls[\"id\"])\n",
    "    dataset_id_ls.append(item_ls[\"id\"])"
   ]
  },
  {
   "cell_type": "code",
   "execution_count": null,
   "metadata": {},
   "outputs": [],
   "source": [
    "edition = \"2021\"\n",
    "for dataset_arg in dataset_id_ls:\n",
    "    # get latest version id, using the edition endpoint\n",
    "    root_dataset_url = r\"https://api.beta.ons.gov.uk/v1/datasets/\"\n",
    "\n",
    "    edition_request_url = root_dataset_url + dataset_arg + \"/editions/\" + edition\n",
    "    \n",
    "    response = requests.get(edition_request_url, timeout=5) # could add a limit in here if i wanted \"&limit=100\"\n",
    "    edition_endpoint_metadata = response.json()\n",
    "    latest_version = edition_endpoint_metadata[\"links\"][\"latest_version\"][\"id\"]\n",
    "\n",
    "    # once you have version make the request for the link\n",
    "    csv_link_request_url = edition_request_url + \"/versions/\" + latest_version\n",
    "\n",
    "    response = requests.get(csv_link_request_url, timeout=5)\n",
    "    dataset_metadata = response.json()\n",
    "    csv_link = dataset_metadata[\"downloads\"][\"csv\"][\"href\"]\n",
    "    csvw_link = dataset_metadata[\"downloads\"][\"csvw\"][\"href\"]\n",
    "\n",
    "    # get csv and csvw data\n",
    "    response = requests.get(csv_link, timeout=5)\n",
    "    csv_bytes = response.content # content gives the content of the response in bytes\n",
    "    csv_file = open(dataset_arg + \"_\" + edition +\".csv\",\"wb\")\n",
    "    csv_file.write(csv_bytes)\n",
    "    csv_file.close()\n",
    "    print(csv_file.name)\n",
    "\n",
    "    response = requests.get(csvw_link, timeout=5)\n",
    "    csvw_bytes = response.content # content gives the content of the response in bytes\n",
    "    csvw_file = open(dataset_arg + \"_\" + edition +\"_csvw-metadata.json\",\"wb\")\n",
    "    csvw_file.write(csvw_bytes)\n",
    "    csvw_file.close()\n",
    "    print(csvw_file.name)\n",
    "\n",
    "    "
   ]
  }
 ],
 "metadata": {
  "kernelspec": {
   "display_name": "Python 3",
   "language": "python",
   "name": "python3"
  },
  "language_info": {
   "name": "python",
   "version": "3.9.9 (tags/v3.9.9:ccb0e6a, Nov 15 2021, 18:08:50) [MSC v.1929 64 bit (AMD64)]"
  },
  "orig_nbformat": 4,
  "vscode": {
   "interpreter": {
    "hash": "1c89ec8b631e045858df3ded24f2b740e72d47d9486513ff350f4eea116224d4"
   }
  }
 },
 "nbformat": 4,
 "nbformat_minor": 2
}
